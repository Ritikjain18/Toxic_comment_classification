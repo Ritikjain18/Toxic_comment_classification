{
 "cells": [
  {
   "cell_type": "code",
   "execution_count": 1,
   "metadata": {},
   "outputs": [],
   "source": [
    "import numpy as np\n",
    "import pandas as pd\n",
    "import matplotlib.pyplot as plt\n",
    "import seaborn as sns\n",
    "%matplotlib inline"
   ]
  },
  {
   "cell_type": "code",
   "execution_count": 28,
   "metadata": {},
   "outputs": [],
   "source": [
    "from sklearn.linear_model import LogisticRegression\n",
    "from sklearn.naive_bayes import MultinomialNB\n",
    "from sklearn.svm import LinearSVC\n",
    "from sklearn.feature_extraction.text import CountVectorizer,TfidfVectorizer\n",
    "from sklearn.pipeline import Pipeline\n",
    "from sklearn.model_selection import GridSearchCV\n",
    "from sklearn.model_selection import train_test_split\n",
    "from sklearn.multiclass import OneVsRestClassifier\n",
    "from sklearn.metrics import accuracy_score"
   ]
  },
  {
   "cell_type": "code",
   "execution_count": 3,
   "metadata": {},
   "outputs": [],
   "source": [
    "import re\n",
    "import nltk\n",
    "from nltk.tokenize import word_tokenize\n",
    "from nltk.tokenize import sent_tokenize\n",
    "from nltk.corpus import stopwords\n",
    "from nltk.stem import WordNetLemmatizer\n",
    "from nltk.stem import SnowballStemmer"
   ]
  },
  {
   "cell_type": "code",
   "execution_count": 4,
   "metadata": {},
   "outputs": [],
   "source": [
    "training_data=pd.read_csv('data/jigsaw-toxic-comment-classification/train.csv')\n",
    "testing_data=pd.read_csv('data/jigsaw-toxic-comment-classification/test.csv')"
   ]
  },
  {
   "cell_type": "code",
   "execution_count": 5,
   "metadata": {},
   "outputs": [
    {
     "name": "stdout",
     "output_type": "stream",
     "text": [
      "(159571, 8) (153164, 2)\n"
     ]
    }
   ],
   "source": [
    "print(training_data.shape,testing_data.shape)"
   ]
  },
  {
   "cell_type": "code",
   "execution_count": 6,
   "metadata": {},
   "outputs": [
    {
     "data": {
      "text/html": [
       "<div>\n",
       "<style scoped>\n",
       "    .dataframe tbody tr th:only-of-type {\n",
       "        vertical-align: middle;\n",
       "    }\n",
       "\n",
       "    .dataframe tbody tr th {\n",
       "        vertical-align: top;\n",
       "    }\n",
       "\n",
       "    .dataframe thead th {\n",
       "        text-align: right;\n",
       "    }\n",
       "</style>\n",
       "<table border=\"1\" class=\"dataframe\">\n",
       "  <thead>\n",
       "    <tr style=\"text-align: right;\">\n",
       "      <th></th>\n",
       "      <th>id</th>\n",
       "      <th>comment_text</th>\n",
       "      <th>toxic</th>\n",
       "      <th>severe_toxic</th>\n",
       "      <th>obscene</th>\n",
       "      <th>threat</th>\n",
       "      <th>insult</th>\n",
       "      <th>identity_hate</th>\n",
       "    </tr>\n",
       "  </thead>\n",
       "  <tbody>\n",
       "    <tr>\n",
       "      <th>0</th>\n",
       "      <td>0000997932d777bf</td>\n",
       "      <td>Explanation\\nWhy the edits made under my usern...</td>\n",
       "      <td>0</td>\n",
       "      <td>0</td>\n",
       "      <td>0</td>\n",
       "      <td>0</td>\n",
       "      <td>0</td>\n",
       "      <td>0</td>\n",
       "    </tr>\n",
       "    <tr>\n",
       "      <th>1</th>\n",
       "      <td>000103f0d9cfb60f</td>\n",
       "      <td>D'aww! He matches this background colour I'm s...</td>\n",
       "      <td>0</td>\n",
       "      <td>0</td>\n",
       "      <td>0</td>\n",
       "      <td>0</td>\n",
       "      <td>0</td>\n",
       "      <td>0</td>\n",
       "    </tr>\n",
       "    <tr>\n",
       "      <th>2</th>\n",
       "      <td>000113f07ec002fd</td>\n",
       "      <td>Hey man, I'm really not trying to edit war. It...</td>\n",
       "      <td>0</td>\n",
       "      <td>0</td>\n",
       "      <td>0</td>\n",
       "      <td>0</td>\n",
       "      <td>0</td>\n",
       "      <td>0</td>\n",
       "    </tr>\n",
       "  </tbody>\n",
       "</table>\n",
       "</div>"
      ],
      "text/plain": [
       "                 id                                       comment_text  toxic  \\\n",
       "0  0000997932d777bf  Explanation\\nWhy the edits made under my usern...      0   \n",
       "1  000103f0d9cfb60f  D'aww! He matches this background colour I'm s...      0   \n",
       "2  000113f07ec002fd  Hey man, I'm really not trying to edit war. It...      0   \n",
       "\n",
       "   severe_toxic  obscene  threat  insult  identity_hate  \n",
       "0             0        0       0       0              0  \n",
       "1             0        0       0       0              0  \n",
       "2             0        0       0       0              0  "
      ]
     },
     "execution_count": 6,
     "metadata": {},
     "output_type": "execute_result"
    }
   ],
   "source": [
    "training_data[:3]"
   ]
  },
  {
   "cell_type": "code",
   "execution_count": 7,
   "metadata": {},
   "outputs": [
    {
     "data": {
      "text/plain": [
       "\"You, sir, are my hero. Any chance you remember what page that's on?\""
      ]
     },
     "execution_count": 7,
     "metadata": {},
     "output_type": "execute_result"
    }
   ],
   "source": [
    "training_data['comment_text'][4]"
   ]
  },
  {
   "cell_type": "code",
   "execution_count": 8,
   "metadata": {},
   "outputs": [
    {
     "data": {
      "text/plain": [
       "(5000, 394.138847284281)"
      ]
     },
     "execution_count": 8,
     "metadata": {},
     "output_type": "execute_result"
    }
   ],
   "source": [
    "length=training_data.comment_text.str.len()\n",
    "length.max(), length.mean()"
   ]
  },
  {
   "cell_type": "code",
   "execution_count": 9,
   "metadata": {},
   "outputs": [
    {
     "data": {
      "text/html": [
       "<div>\n",
       "<style scoped>\n",
       "    .dataframe tbody tr th:only-of-type {\n",
       "        vertical-align: middle;\n",
       "    }\n",
       "\n",
       "    .dataframe tbody tr th {\n",
       "        vertical-align: top;\n",
       "    }\n",
       "\n",
       "    .dataframe thead th {\n",
       "        text-align: right;\n",
       "    }\n",
       "</style>\n",
       "<table border=\"1\" class=\"dataframe\">\n",
       "  <thead>\n",
       "    <tr style=\"text-align: right;\">\n",
       "      <th></th>\n",
       "      <th>toxic</th>\n",
       "      <th>severe_toxic</th>\n",
       "      <th>obscene</th>\n",
       "      <th>threat</th>\n",
       "      <th>insult</th>\n",
       "      <th>identity_hate</th>\n",
       "    </tr>\n",
       "  </thead>\n",
       "  <tbody>\n",
       "    <tr>\n",
       "      <th>count</th>\n",
       "      <td>159571.000000</td>\n",
       "      <td>159571.000000</td>\n",
       "      <td>159571.000000</td>\n",
       "      <td>159571.000000</td>\n",
       "      <td>159571.000000</td>\n",
       "      <td>159571.000000</td>\n",
       "    </tr>\n",
       "    <tr>\n",
       "      <th>mean</th>\n",
       "      <td>0.095844</td>\n",
       "      <td>0.009996</td>\n",
       "      <td>0.052948</td>\n",
       "      <td>0.002996</td>\n",
       "      <td>0.049364</td>\n",
       "      <td>0.008805</td>\n",
       "    </tr>\n",
       "    <tr>\n",
       "      <th>std</th>\n",
       "      <td>0.294379</td>\n",
       "      <td>0.099477</td>\n",
       "      <td>0.223931</td>\n",
       "      <td>0.054650</td>\n",
       "      <td>0.216627</td>\n",
       "      <td>0.093420</td>\n",
       "    </tr>\n",
       "    <tr>\n",
       "      <th>min</th>\n",
       "      <td>0.000000</td>\n",
       "      <td>0.000000</td>\n",
       "      <td>0.000000</td>\n",
       "      <td>0.000000</td>\n",
       "      <td>0.000000</td>\n",
       "      <td>0.000000</td>\n",
       "    </tr>\n",
       "    <tr>\n",
       "      <th>25%</th>\n",
       "      <td>0.000000</td>\n",
       "      <td>0.000000</td>\n",
       "      <td>0.000000</td>\n",
       "      <td>0.000000</td>\n",
       "      <td>0.000000</td>\n",
       "      <td>0.000000</td>\n",
       "    </tr>\n",
       "    <tr>\n",
       "      <th>50%</th>\n",
       "      <td>0.000000</td>\n",
       "      <td>0.000000</td>\n",
       "      <td>0.000000</td>\n",
       "      <td>0.000000</td>\n",
       "      <td>0.000000</td>\n",
       "      <td>0.000000</td>\n",
       "    </tr>\n",
       "    <tr>\n",
       "      <th>75%</th>\n",
       "      <td>0.000000</td>\n",
       "      <td>0.000000</td>\n",
       "      <td>0.000000</td>\n",
       "      <td>0.000000</td>\n",
       "      <td>0.000000</td>\n",
       "      <td>0.000000</td>\n",
       "    </tr>\n",
       "    <tr>\n",
       "      <th>max</th>\n",
       "      <td>1.000000</td>\n",
       "      <td>1.000000</td>\n",
       "      <td>1.000000</td>\n",
       "      <td>1.000000</td>\n",
       "      <td>1.000000</td>\n",
       "      <td>1.000000</td>\n",
       "    </tr>\n",
       "  </tbody>\n",
       "</table>\n",
       "</div>"
      ],
      "text/plain": [
       "               toxic   severe_toxic        obscene         threat  \\\n",
       "count  159571.000000  159571.000000  159571.000000  159571.000000   \n",
       "mean        0.095844       0.009996       0.052948       0.002996   \n",
       "std         0.294379       0.099477       0.223931       0.054650   \n",
       "min         0.000000       0.000000       0.000000       0.000000   \n",
       "25%         0.000000       0.000000       0.000000       0.000000   \n",
       "50%         0.000000       0.000000       0.000000       0.000000   \n",
       "75%         0.000000       0.000000       0.000000       0.000000   \n",
       "max         1.000000       1.000000       1.000000       1.000000   \n",
       "\n",
       "              insult  identity_hate  \n",
       "count  159571.000000  159571.000000  \n",
       "mean        0.049364       0.008805  \n",
       "std         0.216627       0.093420  \n",
       "min         0.000000       0.000000  \n",
       "25%         0.000000       0.000000  \n",
       "50%         0.000000       0.000000  \n",
       "75%         0.000000       0.000000  \n",
       "max         1.000000       1.000000  "
      ]
     },
     "execution_count": 9,
     "metadata": {},
     "output_type": "execute_result"
    }
   ],
   "source": [
    "training_data.describe()"
   ]
  },
  {
   "cell_type": "code",
   "execution_count": 10,
   "metadata": {},
   "outputs": [
    {
     "data": {
      "text/html": [
       "<div>\n",
       "<style scoped>\n",
       "    .dataframe tbody tr th:only-of-type {\n",
       "        vertical-align: middle;\n",
       "    }\n",
       "\n",
       "    .dataframe tbody tr th {\n",
       "        vertical-align: top;\n",
       "    }\n",
       "\n",
       "    .dataframe thead th {\n",
       "        text-align: right;\n",
       "    }\n",
       "</style>\n",
       "<table border=\"1\" class=\"dataframe\">\n",
       "  <thead>\n",
       "    <tr style=\"text-align: right;\">\n",
       "      <th></th>\n",
       "      <th>id</th>\n",
       "      <th>comment_text</th>\n",
       "      <th>toxic</th>\n",
       "      <th>severe_toxic</th>\n",
       "      <th>obscene</th>\n",
       "      <th>threat</th>\n",
       "      <th>insult</th>\n",
       "      <th>identity_hate</th>\n",
       "    </tr>\n",
       "  </thead>\n",
       "  <tbody>\n",
       "    <tr>\n",
       "      <th>0</th>\n",
       "      <td>0000997932d777bf</td>\n",
       "      <td>Explanation\\nWhy the edits made under my usern...</td>\n",
       "      <td>0</td>\n",
       "      <td>0</td>\n",
       "      <td>0</td>\n",
       "      <td>0</td>\n",
       "      <td>0</td>\n",
       "      <td>0</td>\n",
       "    </tr>\n",
       "    <tr>\n",
       "      <th>1</th>\n",
       "      <td>000103f0d9cfb60f</td>\n",
       "      <td>D'aww! He matches this background colour I'm s...</td>\n",
       "      <td>0</td>\n",
       "      <td>0</td>\n",
       "      <td>0</td>\n",
       "      <td>0</td>\n",
       "      <td>0</td>\n",
       "      <td>0</td>\n",
       "    </tr>\n",
       "    <tr>\n",
       "      <th>2</th>\n",
       "      <td>000113f07ec002fd</td>\n",
       "      <td>Hey man, I'm really not trying to edit war. It...</td>\n",
       "      <td>0</td>\n",
       "      <td>0</td>\n",
       "      <td>0</td>\n",
       "      <td>0</td>\n",
       "      <td>0</td>\n",
       "      <td>0</td>\n",
       "    </tr>\n",
       "    <tr>\n",
       "      <th>3</th>\n",
       "      <td>0001b41b1c6bb37e</td>\n",
       "      <td>\"\\nMore\\nI can't make any real suggestions on ...</td>\n",
       "      <td>0</td>\n",
       "      <td>0</td>\n",
       "      <td>0</td>\n",
       "      <td>0</td>\n",
       "      <td>0</td>\n",
       "      <td>0</td>\n",
       "    </tr>\n",
       "    <tr>\n",
       "      <th>4</th>\n",
       "      <td>0001d958c54c6e35</td>\n",
       "      <td>You, sir, are my hero. Any chance you remember...</td>\n",
       "      <td>0</td>\n",
       "      <td>0</td>\n",
       "      <td>0</td>\n",
       "      <td>0</td>\n",
       "      <td>0</td>\n",
       "      <td>0</td>\n",
       "    </tr>\n",
       "  </tbody>\n",
       "</table>\n",
       "</div>"
      ],
      "text/plain": [
       "                 id                                       comment_text  toxic  \\\n",
       "0  0000997932d777bf  Explanation\\nWhy the edits made under my usern...      0   \n",
       "1  000103f0d9cfb60f  D'aww! He matches this background colour I'm s...      0   \n",
       "2  000113f07ec002fd  Hey man, I'm really not trying to edit war. It...      0   \n",
       "3  0001b41b1c6bb37e  \"\\nMore\\nI can't make any real suggestions on ...      0   \n",
       "4  0001d958c54c6e35  You, sir, are my hero. Any chance you remember...      0   \n",
       "\n",
       "   severe_toxic  obscene  threat  insult  identity_hate  \n",
       "0             0        0       0       0              0  \n",
       "1             0        0       0       0              0  \n",
       "2             0        0       0       0              0  \n",
       "3             0        0       0       0              0  \n",
       "4             0        0       0       0              0  "
      ]
     },
     "execution_count": 10,
     "metadata": {},
     "output_type": "execute_result"
    }
   ],
   "source": [
    "training_data.head()"
   ]
  },
  {
   "cell_type": "code",
   "execution_count": 11,
   "metadata": {},
   "outputs": [
    {
     "data": {
      "text/html": [
       "<div>\n",
       "<style scoped>\n",
       "    .dataframe tbody tr th:only-of-type {\n",
       "        vertical-align: middle;\n",
       "    }\n",
       "\n",
       "    .dataframe tbody tr th {\n",
       "        vertical-align: top;\n",
       "    }\n",
       "\n",
       "    .dataframe thead th {\n",
       "        text-align: right;\n",
       "    }\n",
       "</style>\n",
       "<table border=\"1\" class=\"dataframe\">\n",
       "  <thead>\n",
       "    <tr style=\"text-align: right;\">\n",
       "      <th></th>\n",
       "      <th>category</th>\n",
       "      <th>number_of_comments</th>\n",
       "    </tr>\n",
       "  </thead>\n",
       "  <tbody>\n",
       "    <tr>\n",
       "      <th>0</th>\n",
       "      <td>toxic</td>\n",
       "      <td>15294</td>\n",
       "    </tr>\n",
       "    <tr>\n",
       "      <th>1</th>\n",
       "      <td>severe_toxic</td>\n",
       "      <td>1595</td>\n",
       "    </tr>\n",
       "    <tr>\n",
       "      <th>2</th>\n",
       "      <td>obscene</td>\n",
       "      <td>8449</td>\n",
       "    </tr>\n",
       "    <tr>\n",
       "      <th>3</th>\n",
       "      <td>threat</td>\n",
       "      <td>478</td>\n",
       "    </tr>\n",
       "    <tr>\n",
       "      <th>4</th>\n",
       "      <td>insult</td>\n",
       "      <td>7877</td>\n",
       "    </tr>\n",
       "    <tr>\n",
       "      <th>5</th>\n",
       "      <td>identity_hate</td>\n",
       "      <td>1405</td>\n",
       "    </tr>\n",
       "  </tbody>\n",
       "</table>\n",
       "</div>"
      ],
      "text/plain": [
       "        category  number_of_comments\n",
       "0          toxic               15294\n",
       "1   severe_toxic                1595\n",
       "2        obscene                8449\n",
       "3         threat                 478\n",
       "4         insult                7877\n",
       "5  identity_hate                1405"
      ]
     },
     "execution_count": 11,
     "metadata": {},
     "output_type": "execute_result"
    }
   ],
   "source": [
    "df_data=training_data.drop(['id','comment_text'],axis=1)\n",
    "counts=[]\n",
    "categories=df_data.columns.values\n",
    "for i in categories:\n",
    "    counts.append((i,df_data[i].sum()))\n",
    "stats=pd.DataFrame(counts,columns=['category','number_of_comments'])\n",
    "stats"
   ]
  },
  {
   "cell_type": "code",
   "execution_count": 12,
   "metadata": {},
   "outputs": [
    {
     "data": {
      "text/plain": [
       "Text(0, 0.5, 'number of occurrences')"
      ]
     },
     "execution_count": 12,
     "metadata": {},
     "output_type": "execute_result"
    },
    {
     "data": {
      "image/png": "[encoded data removed]",
      "text/plain": [
       "<Figure size 432x288 with 1 Axes>"
      ]
     },
     "metadata": {
      "needs_background": "light"
     },
     "output_type": "display_data"
    }
   ],
   "source": [
    "stats.plot(x='category',y='number_of_comments',kind='bar',legend=False,grid=True,figsize=(6,4))\n",
    "plt.title(\"Number of comments per category\")\n",
    "plt.xlabel('category',fontsize=12)\n",
    "plt.ylabel('number of occurrences',fontsize=12)"
   ]
  },
  {
   "cell_type": "code",
   "execution_count": 13,
   "metadata": {},
   "outputs": [
    {
     "data": {
      "text/plain": [
       "0    143346\n",
       "1      6360\n",
       "3      4209\n",
       "2      3480\n",
       "4      1760\n",
       "5       385\n",
       "6        31\n",
       "dtype: int64"
      ]
     },
     "execution_count": 13,
     "metadata": {},
     "output_type": "execute_result"
    },
    {
     "data": {
      "image/png": "[encoded data removed]",
      "text/plain": [
       "<Figure size 432x288 with 1 Axes>"
      ]
     },
     "metadata": {
      "needs_background": "light"
     },
     "output_type": "display_data"
    }
   ],
   "source": [
    "sum_of_rows=training_data.iloc[:,2:].sum(axis=1)\n",
    "x=sum_of_rows.value_counts()\n",
    "plt.plot(figsize=(8,6))\n",
    "sns.barplot(x.index,x.values)\n",
    "plt.title(\"Multiple number of categories per comment\")\n",
    "plt.xlabel(\"number of categories\",fontsize=10)\n",
    "plt.ylabel(\"number of occurrences\",fontsize=10)\n",
    "x"
   ]
  },
  {
   "cell_type": "code",
   "execution_count": 14,
   "metadata": {},
   "outputs": [
    {
     "name": "stdout",
     "output_type": "stream",
     "text": [
      "percentage of comments that are unlabelled\n",
      "89.83211235124176\n"
     ]
    }
   ],
   "source": [
    "print(\"percentage of comments that are unlabelled\")\n",
    "print(100*len(training_data[(training_data['toxic']==0)&(training_data['severe_toxic']==0)&(training_data['obscene']==0)&(training_data['threat']==0)&(training_data['insult']==0)&(training_data['identity_hate']==0)])/(len(training_data)))"
   ]
  },
  {
   "cell_type": "code",
   "execution_count": 15,
   "metadata": {},
   "outputs": [
    {
     "name": "stdout",
     "output_type": "stream",
     "text": [
      "missing comments\n"
     ]
    },
    {
     "data": {
      "text/plain": [
       "0"
      ]
     },
     "execution_count": 15,
     "metadata": {},
     "output_type": "execute_result"
    }
   ],
   "source": [
    "print(\"missing comments\")\n",
    "training_data['comment_text'].isnull().sum()"
   ]
  },
  {
   "cell_type": "code",
   "execution_count": 16,
   "metadata": {},
   "outputs": [
    {
     "data": {
      "text/plain": [
       "'\"\\n\\nJuelz Santanas Age\\n\\nIn 2002, Juelz Santana was 18 years old, then came February 18th, which makes Juelz turn 19 making songs with The Diplomats. The third neff to be signed to Cam\\'s label under Roc A Fella. In 2003, he was 20 years old coming out with his own singles \"\"Santana\\'s Town\"\" and \"\"Down\"\". So yes, he is born in 1983. He really is, how could he be older then Lloyd Banks? And how could he be 22 when his birthday passed? The homie neff is 23 years old. 1983 - 2006 (Juelz death, god forbid if your thinking about that) equals 23. Go to your caculator and stop changing his year of birth. My god.\"'"
      ]
     },
     "execution_count": 16,
     "metadata": {},
     "output_type": "execute_result"
    }
   ],
   "source": [
    "training_data['comment_text'][15]"
   ]
  },
  {
   "cell_type": "code",
   "execution_count": 17,
   "metadata": {},
   "outputs": [],
   "source": [
    "def clean_text(text):\n",
    "    text=text.lower()\n",
    "    text=re.sub(r\"[^A-Za-z0-9]\", \" \", text)\n",
    "    text=re.sub(r\"can't\",\"can not\",text)\n",
    "    text=re.sub(r\"weren't\",\"were not\",text)\n",
    "    text=re.sub(r\"i'm\",\"i am\",text)\n",
    "    text=re.sub(r\"it's\",\"it is\",text)\n",
    "    text=re.sub(r\"\\'s\", \" \", text)\n",
    "    text=re.sub(r\"\\'ve\", \" have \",text)\n",
    "    text=re.sub(r\"n't\", \" not \",text)\n",
    "    text=re.sub(r\"\\'re\", \" are \",text)\n",
    "    text=re.sub(r\"\\'d\", \" would \",text)\n",
    "    text=re.sub(r\"\\'ll\", \" will \",text)\n",
    "    text=re.sub(r\"\\'scuse\", \" excuse \",text)\n",
    "    text=re.sub(r\"\\n\",\"\",text)\n",
    "    text=text.strip()\n",
    "    return text"
   ]
  },
  {
   "cell_type": "code",
   "execution_count": 18,
   "metadata": {},
   "outputs": [
    {
     "data": {
      "text/plain": [
       "'juelz santanas age  in 2002  juelz santana was 18 years old  then came february 18th  which makes juelz turn 19 making songs with the diplomats  the third neff to be signed to cam s label under roc a fella  in 2003  he was 20 years old coming out with his own singles   santana s town   and   down    so yes  he is born in 1983  he really is  how could he be older then lloyd banks  and how could he be 22 when his birthday passed  the homie neff is 23 years old  1983   2006  juelz death  god forbid if your thinking about that  equals 23  go to your caculator and stop changing his year of birth  my god'"
      ]
     },
     "execution_count": 18,
     "metadata": {},
     "output_type": "execute_result"
    }
   ],
   "source": [
    "training_data['comment_text']=training_data['comment_text'].map(lambda comment : clean_text(comment))\n",
    "training_data['comment_text'][15]"
   ]
  },
  {
   "cell_type": "code",
   "execution_count": 19,
   "metadata": {},
   "outputs": [
    {
     "data": {
      "text/plain": [
       "{'a',\n",
       " 'about',\n",
       " 'above',\n",
       " 'after',\n",
       " 'again',\n",
       " 'against',\n",
       " 'ain',\n",
       " 'all',\n",
       " 'am',\n",
       " 'an',\n",
       " 'and',\n",
       " 'any',\n",
       " 'are',\n",
       " 'aren',\n",
       " \"aren't\",\n",
       " 'as',\n",
       " 'at',\n",
       " 'be',\n",
       " 'because',\n",
       " 'been',\n",
       " 'before',\n",
       " 'being',\n",
       " 'below',\n",
       " 'between',\n",
       " 'both',\n",
       " 'but',\n",
       " 'by',\n",
       " 'can',\n",
       " 'couldn',\n",
       " \"couldn't\",\n",
       " 'd',\n",
       " 'did',\n",
       " 'didn',\n",
       " \"didn't\",\n",
       " 'do',\n",
       " 'does',\n",
       " 'doesn',\n",
       " \"doesn't\",\n",
       " 'doing',\n",
       " 'don',\n",
       " \"don't\",\n",
       " 'down',\n",
       " 'during',\n",
       " 'each',\n",
       " 'few',\n",
       " 'for',\n",
       " 'from',\n",
       " 'further',\n",
       " 'had',\n",
       " 'hadn',\n",
       " \"hadn't\",\n",
       " 'has',\n",
       " 'hasn',\n",
       " \"hasn't\",\n",
       " 'have',\n",
       " 'haven',\n",
       " \"haven't\",\n",
       " 'having',\n",
       " 'he',\n",
       " 'her',\n",
       " 'here',\n",
       " 'hers',\n",
       " 'herself',\n",
       " 'him',\n",
       " 'himself',\n",
       " 'his',\n",
       " 'how',\n",
       " 'i',\n",
       " 'if',\n",
       " 'in',\n",
       " 'into',\n",
       " 'is',\n",
       " 'isn',\n",
       " \"isn't\",\n",
       " 'it',\n",
       " \"it's\",\n",
       " 'its',\n",
       " 'itself',\n",
       " 'just',\n",
       " 'll',\n",
       " 'm',\n",
       " 'ma',\n",
       " 'me',\n",
       " 'mightn',\n",
       " \"mightn't\",\n",
       " 'more',\n",
       " 'most',\n",
       " 'mustn',\n",
       " \"mustn't\",\n",
       " 'my',\n",
       " 'myself',\n",
       " 'needn',\n",
       " \"needn't\",\n",
       " 'no',\n",
       " 'nor',\n",
       " 'not',\n",
       " 'now',\n",
       " 'o',\n",
       " 'of',\n",
       " 'off',\n",
       " 'on',\n",
       " 'once',\n",
       " 'only',\n",
       " 'or',\n",
       " 'other',\n",
       " 'our',\n",
       " 'ours',\n",
       " 'ourselves',\n",
       " 'out',\n",
       " 'over',\n",
       " 'own',\n",
       " 're',\n",
       " 's',\n",
       " 'same',\n",
       " 'shan',\n",
       " \"shan't\",\n",
       " 'she',\n",
       " \"she's\",\n",
       " 'should',\n",
       " \"should've\",\n",
       " 'shouldn',\n",
       " \"shouldn't\",\n",
       " 'so',\n",
       " 'some',\n",
       " 'such',\n",
       " 't',\n",
       " 'than',\n",
       " 'that',\n",
       " \"that'll\",\n",
       " 'the',\n",
       " 'their',\n",
       " 'theirs',\n",
       " 'them',\n",
       " 'themselves',\n",
       " 'then',\n",
       " 'there',\n",
       " 'these',\n",
       " 'they',\n",
       " 'this',\n",
       " 'those',\n",
       " 'through',\n",
       " 'to',\n",
       " 'too',\n",
       " 'under',\n",
       " 'until',\n",
       " 'up',\n",
       " 've',\n",
       " 'very',\n",
       " 'was',\n",
       " 'wasn',\n",
       " \"wasn't\",\n",
       " 'we',\n",
       " 'were',\n",
       " 'weren',\n",
       " \"weren't\",\n",
       " 'what',\n",
       " 'when',\n",
       " 'where',\n",
       " 'which',\n",
       " 'while',\n",
       " 'who',\n",
       " 'whom',\n",
       " 'why',\n",
       " 'will',\n",
       " 'with',\n",
       " 'won',\n",
       " \"won't\",\n",
       " 'wouldn',\n",
       " \"wouldn't\",\n",
       " 'y',\n",
       " 'you',\n",
       " \"you'd\",\n",
       " \"you'll\",\n",
       " \"you're\",\n",
       " \"you've\",\n",
       " 'your',\n",
       " 'yours',\n",
       " 'yourself',\n",
       " 'yourselves'}"
      ]
     },
     "execution_count": 19,
     "metadata": {},
     "output_type": "execute_result"
    }
   ],
   "source": [
    "stop_words=set(stopwords.words('english'))\n",
    "stop_words"
   ]
  },
  {
   "cell_type": "code",
   "execution_count": 20,
   "metadata": {},
   "outputs": [],
   "source": [
    "stop_words.update(['zero','one','two','three','four','five','six','seven','eight','nine','ten','could','may','also','across','among','beside','however','yet','within'])\n",
    "re_stop_words = re.compile(r\"\\b(\" + \"|\".join(stop_words) + \")\\\\W\", re.I)\n",
    "def removeStopWords(text):\n",
    "    global re_stop_words\n",
    "    return re_stop_words.sub(\" \", text)\n",
    "training_data['comment_text'] = training_data['comment_text'].apply(removeStopWords)"
   ]
  },
  {
   "cell_type": "code",
   "execution_count": 21,
   "metadata": {},
   "outputs": [
    {
     "data": {
      "text/plain": [
       "'juelz santanas age   2002  juelz santana  18 years old   came february 18th   makes juelz turn 19 making songs   diplomats   third neff   signed  cam  label  roc  fella   2003    20 years old coming     singles   santana  town           yes    born  1983   really       older  lloyd banks       22   birthday passed   homie neff  23 years old  1983   2006  juelz death  god forbid   thinking    equals 23  go   caculator  stop changing  year  birth   god'"
      ]
     },
     "execution_count": 21,
     "metadata": {},
     "output_type": "execute_result"
    }
   ],
   "source": [
    "training_data['comment_text'][15]"
   ]
  },
  {
   "cell_type": "code",
   "execution_count": 22,
   "metadata": {},
   "outputs": [],
   "source": [
    "lemmatizer=WordNetLemmatizer()\n",
    "def word_lemmatize(text):\n",
    "    lemmSentence= \"\"\n",
    "    for word in text.split():\n",
    "        lemm= lemmatizer.lemmatize(word)\n",
    "        lemmSentence+= lemm\n",
    "        lemmSentence+= \" \"\n",
    "    lemmSentence=lemmSentence.strip()\n",
    "    return lemmSentence\n",
    "training_data['comment_text'] = training_data['comment_text'].apply(word_lemmatize)"
   ]
  },
  {
   "cell_type": "code",
   "execution_count": 23,
   "metadata": {},
   "outputs": [
    {
     "data": {
      "text/plain": [
       "'juelz santanas age 2002 juelz santana 18 year old came february 18th make juelz turn 19 making song diplomat third neff signed cam label roc fella 2003 20 year old coming single santana town yes born 1983 really older lloyd bank 22 birthday passed homie neff 23 year old 1983 2006 juelz death god forbid thinking equal 23 go caculator stop changing year birth god'"
      ]
     },
     "execution_count": 23,
     "metadata": {},
     "output_type": "execute_result"
    }
   ],
   "source": [
    "training_data['comment_text'][15]"
   ]
  },
  {
   "cell_type": "code",
   "execution_count": 24,
   "metadata": {},
   "outputs": [],
   "source": [
    "stemmer = SnowballStemmer(\"english\")\n",
    "def word_stemming(text):\n",
    "    stemSentence= \"\"\n",
    "    for word in text.split():\n",
    "        stem = stemmer.stem(word)\n",
    "        stemSentence+= stem\n",
    "        stemSentence+= \" \"\n",
    "    stemSentence=stemSentence.strip()\n",
    "    return stemSentence\n",
    "training_data['comment_text'] = training_data['comment_text'].apply(word_stemming)"
   ]
  },
  {
   "cell_type": "code",
   "execution_count": 25,
   "metadata": {},
   "outputs": [
    {
     "data": {
      "text/plain": [
       "'juelz santana age 2002 juelz santana 18 year old came februari 18th make juelz turn 19 make song diplomat third neff sign cam label roc fella 2003 20 year old come singl santana town yes born 1983 realli older lloyd bank 22 birthday pass homi neff 23 year old 1983 2006 juelz death god forbid think equal 23 go cacul stop chang year birth god'"
      ]
     },
     "execution_count": 25,
     "metadata": {},
     "output_type": "execute_result"
    }
   ],
   "source": [
    "training_data['comment_text'][15]"
   ]
  },
  {
   "cell_type": "code",
   "execution_count": 26,
   "metadata": {},
   "outputs": [],
   "source": [
    "categories=['toxic','severe_toxic','obscene','threat','insult','identity_hate']\n",
    "x=training_data['comment_text']\n",
    "y=training_data.iloc[:,2:8]"
   ]
  },
  {
   "cell_type": "code",
   "execution_count": 29,
   "metadata": {},
   "outputs": [
    {
     "name": "stdout",
     "output_type": "stream",
     "text": [
      "(127656,)\n",
      "(127656, 6)\n",
      "(31915,)\n",
      "(31915, 6)\n"
     ]
    }
   ],
   "source": [
    "X_train,X_test,Y_train,Y_test=train_test_split(x,y,shuffle=True,test_size=0.2,random_state=13)\n",
    "print(X_train.shape)\n",
    "print(Y_train.shape)\n",
    "print(X_test.shape)\n",
    "print(Y_test.shape)"
   ]
  },
  {
   "cell_type": "code",
   "execution_count": 30,
   "metadata": {},
   "outputs": [
    {
     "data": {
      "text/plain": [
       "TfidfVectorizer(analyzer='word', binary=False, decode_error='strict',\n",
       "                dtype=<class 'numpy.float64'>, encoding='utf-8',\n",
       "                input='content', lowercase=True, max_df=1.0, max_features=None,\n",
       "                min_df=1, ngram_range=(1, 3), norm='l2', preprocessor=None,\n",
       "                smooth_idf=True, stop_words=None, strip_accents='unicode',\n",
       "                sublinear_tf=False, token_pattern='(?u)\\\\b\\\\w\\\\w+\\\\b',\n",
       "                tokenizer=None, use_idf=True, vocabulary=None)"
      ]
     },
     "execution_count": 30,
     "metadata": {},
     "output_type": "execute_result"
    }
   ],
   "source": [
    "vectorizer=TfidfVectorizer(strip_accents='unicode',analyzer='word',ngram_range=(1,3),norm='l2')\n",
    "vectorizer.fit(X_train)\n",
    "vectorizer.fit(X_test)"
   ]
  },
  {
   "cell_type": "code",
   "execution_count": 31,
   "metadata": {},
   "outputs": [],
   "source": [
    "X_train=vectorizer.transform(X_train)\n",
    "X_test=vectorizer.transform(X_test)"
   ]
  },
  {
   "cell_type": "code",
   "execution_count": 32,
   "metadata": {},
   "outputs": [
    {
     "name": "stdout",
     "output_type": "stream",
     "text": [
      "Processing toxic comments:\n",
      "Accuracy is 0.9063763120789597\n",
      "Processing severe_toxic comments:\n",
      "Accuracy is 0.9905060316465611\n",
      "Processing obscene comments:\n",
      "Accuracy is 0.949114836283879\n",
      "Processing threat comments:\n",
      "Accuracy is 0.9971800093999686\n",
      "Processing insult comments:\n",
      "Accuracy is 0.9529061569794768\n",
      "Processing identity_hate comments:\n",
      "Accuracy is 0.9913206955976813\n"
     ]
    }
   ],
   "source": [
    "LogisticReg_pipeline=Pipeline([('clf',OneVsRestClassifier(LogisticRegression(solver='sag'),n_jobs=-1))])\n",
    "for category in categories:\n",
    "    print(\"Processing {} comments:\".format(category))\n",
    "    LogisticReg_pipeline.fit(X_train,training_data[category][:127656])\n",
    "    \n",
    "    prediction=LogisticReg_pipeline.predict(X_test)\n",
    "    print(\"Accuracy is {}\".format(accuracy_score(Y_test[category],prediction)))\n",
    "    "
   ]
  },
  {
   "cell_type": "code",
   "execution_count": 33,
   "metadata": {},
   "outputs": [
    {
     "name": "stdout",
     "output_type": "stream",
     "text": [
      "Processing toxic comments:\n",
      "Accuracy is 0.9063449788500705\n",
      "Processing severe_toxic comments:\n",
      "Accuracy is 0.9905060316465611\n",
      "Processing obscene comments:\n",
      "Accuracy is 0.9490835030549898\n",
      "Processing threat comments:\n",
      "Accuracy is 0.9971800093999686\n",
      "Processing insult comments:\n",
      "Accuracy is 0.9528748237505875\n",
      "Processing identity_hate comments:\n",
      "Accuracy is 0.9913206955976813\n"
     ]
    }
   ],
   "source": [
    "Naive_bayes_pipeline=Pipeline([('clf',OneVsRestClassifier(MultinomialNB(fit_prior=True,class_prior=None)))])\n",
    "for category in categories:\n",
    "    print(\"Processing {} comments:\".format(category))\n",
    "    Naive_bayes_pipeline.fit(X_train,training_data[category][:127656])\n",
    "    \n",
    "    prediction=Naive_bayes_pipeline.predict(X_test)\n",
    "    print(\"Accuracy is {}\".format(accuracy_score(Y_test[category],prediction)))"
   ]
  },
  {
   "cell_type": "code",
   "execution_count": 34,
   "metadata": {},
   "outputs": [
    {
     "name": "stdout",
     "output_type": "stream",
     "text": [
      "Processing toxic comments:\n",
      "Accuracy is 0.9046529844900517\n",
      "Processing severe_toxic comments:\n",
      "Accuracy is 0.9903180322732258\n",
      "Processing obscene comments:\n",
      "Accuracy is 0.9481121729594235\n",
      "Processing threat comments:\n",
      "Accuracy is 0.9971486761710794\n",
      "Processing insult comments:\n",
      "Accuracy is 0.9521854927150243\n",
      "Processing identity_hate comments:\n",
      "Accuracy is 0.9912893623687921\n"
     ]
    }
   ],
   "source": [
    "LinearSVC_pipeline=Pipeline([('clf',OneVsRestClassifier(LinearSVC(),n_jobs=1))])\n",
    "for category in categories:\n",
    "    print(\"Processing {} comments:\".format(category))\n",
    "    LinearSVC_pipeline.fit(X_train,training_data[category][:127656])\n",
    "    \n",
    "    predict=LinearSVC_pipeline.predict(X_test)\n",
    "    print(\"Accuracy is {}\".format(accuracy_score(Y_test[category],predict)))"
   ]
  },
  {
   "cell_type": "code",
   "execution_count": null,
   "metadata": {},
   "outputs": [],
   "source": [
    "import numpy as np\n",
    "import pandas as pd\n",
    "import matplotlib.pyplot as plt\n",
    "import seaborn as sns\n",
    "%matplotlib inline\n",
    "from sklearn.linear_model import LogisticRegression\n",
    "from sklearn.naive_bayes import MultinomialNB\n",
    "from sklearn.svm import LinearSVC\n",
    "from sklearn.feature_extraction.text import CountVectorizer,TfidfVectorizer\n",
    "from sklearn.pipeline import Pipeline\n",
    "from sklearn.model_selection import GridSearchCV\n",
    "from sklearn.model_selection import train_test_split\n",
    "from sklearn.multiclass import OneVsRestClassifier\n",
    "from sklearn.metrics import accuracy_score\n",
    "import re\n",
    "import nltk\n",
    "from nltk.tokenize import word_tokenize\n",
    "from nltk.tokenize import sent_tokenize\n",
    "from nltk.corpus import stopwords\n",
    "from nltk.stem import WordNetLemmatizer\n",
    "from nltk.stem import SnowballStemmer\n",
    "training_data=pd.read_csv('data/jigsaw-toxic-comment-classification/train.csv')\n",
    "testing_data=pd.read_csv('data/jigsaw-toxic-comment-classification/test.csv')\n",
    "print(training_data.shape,testing_data.shape)\n",
    "training_data[:3]\n",
    "training_data['comment_text'][4]\n",
    "length=training_data.comment_text.str.len()\n",
    "length.max(), length.mean()\n",
    "training_data.describe()\n",
    "training_data.head()\n",
    "df_data=training_data.drop(['id','comment_text'],axis=1)\n",
    "counts=[]\n",
    "categories=df_data.columns.values\n",
    "for i in categories:\n",
    "    counts.append((i,df_data[i].sum()))\n",
    "stats=pd.DataFrame(counts,columns=['category','number_of_comments'])\n",
    "stats\n",
    "stats.plot(x='category',y='number_of_comments',kind='bar',legend=False,grid=True,figsize=(6,4))\n",
    "plt.title(\"Number of comments per category\")\n",
    "plt.xlabel('category',fontsize=12)\n",
    "plt.ylabel('number of occurrences',fontsize=12)\n",
    "sum_of_rows=training_data.iloc[:,2:].sum(axis=1)\n",
    "x=sum_of_rows.value_counts()\n",
    "plt.plot(figsize=(8,6))\n",
    "sns.barplot(x.index,x.values)\n",
    "plt.title(\"Multiple number of categories per comment\")\n",
    "plt.xlabel(\"number of categories\",fontsize=10)\n",
    "plt.ylabel(\"number of occurrences\",fontsize=10)\n",
    "x\n",
    "print(\"percentage of comments that are unlabelled\")\n",
    "print(100*len(training_data[(training_data['toxic']==0)&(training_data['severe_toxic']==0)&(training_data['obscene']==0)&(training_data['threat']==0)&(training_data['insult']==0)&(training_data['identity_hate']==0)])/(len(training_data)))\n",
    "print(\"missing comments\")\n",
    "training_data['comment_text'].isnull().sum()\n",
    "training_data['comment_text'][15]\n",
    "def clean_text(text):\n",
    "    text=text.lower()\n",
    "    text=re.sub(r\"[^A-Za-z0-9]\", \" \", text)\n",
    "    text=re.sub(r\"can't\",\"can not\",text)\n",
    "    text=re.sub(r\"weren't\",\"were not\",text)\n",
    "    text=re.sub(r\"i'm\",\"i am\",text)\n",
    "    text=re.sub(r\"it's\",\"it is\",text)\n",
    "    text=re.sub(r\"'s\", \" \", text)\n",
    "    text=re.sub(r\"'ve\", \" have \",text)\n",
    "    text=re.sub(r\"n't\", \" not \",text)\n",
    "    text=re.sub(r\"'re\", \" are \",text)\n",
    "    text=re.sub(r\"'d\", \" would \",text)\n",
    "    text=re.sub(r\"'ll\", \" will \",text)\n",
    "    text=re.sub(r\"'scuse\", \" excuse \",text)\n",
    "    text=re.sub(r\"n\",\"\",text)\n",
    "    text=text.strip()\n",
    "    return text\n",
    "training_data['comment_text']=training_data['comment_text'].map(lambda comment : clean_text(comment))\n",
    "training_data['comment_text'][15]\n",
    "stop_words=set(stopwords.words('english'))\n",
    "stop_words\n",
    "stop_words.update(['zero','one','two','three','four','five','six','seven','eight','nine','ten','could','may','also','across','among','beside','however','yet','within'])\n",
    "re_stop_words = re.compile(r\"b(\" + \"|\".join(stop_words) + \")\\W\", re.I)\n",
    "def removeStopWords(text):\n",
    "    global re_stop_words\n",
    "    return re_stop_words.sub(\" \", text)\n",
    "training_data['comment_text'] = training_data['comment_text'].apply(removeStopWords)\n",
    "training_data['comment_text'][15]\n",
    "lemmatizer=WordNetLemmatizer()\n",
    "def word_lemmatize(text):\n",
    "    lemmSentence= \"\"\n",
    "    for word in text.split():\n",
    "        lemm= lemmatizer.lemmatize(word)\n",
    "        lemmSentence+= lemm\n",
    "        lemmSentence+= \" \"\n",
    "    lemmSentence=lemmSentence.strip()\n",
    "    return lemmSentence\n",
    "training_data['comment_text'] = training_data['comment_text'].apply(word_lemmatize)\n",
    "training_data['comment_text'][15]\n",
    "stemmer = SnowballStemmer(\"english\")\n",
    "def word_stemming(text):\n",
    "    stemSentence= \"\"\n",
    "    for word in text.split():\n",
    "        stem = stemmer.stem(word)\n",
    "        stemSentence+= stem\n",
    "        stemSentence+= \" \"\n",
    "    stemSentence=stemSentence.strip()\n",
    "    return stemSentence\n",
    "training_data['comment_text'] = training_data['comment_text'].apply(word_stemming)\n",
    "training_data['comment_text'][15]\n",
    "categories=['toxic','severe_toxic','obscene','threat','insult','identity_hate']\n",
    "x=training_data['comment_text']\n",
    "y=training_data.iloc[:,2:8]\n",
    "X_train,X_test,Y_train,Y_test=train_test_split(x,y,shuffle=True,test_size=0.2,random_state=13)\n",
    "print(X_train.shape)\n",
    "print(Y_train.shape)\n",
    "print(X_test.shape)\n",
    "print(Y_test.shape)\n",
    "vectorizer=TfidfVectorizer(strip_accents='unicode',analyzer='word',ngram_range=(1,3),norm='l2')\n",
    "vectorizer.fit(X_train)\n",
    "vectorizer.fit(X_test)\n",
    "X_train=vectorizer.transform(X_train)\n",
    "X_test=vectorizer.transform(X_test)\n",
    "#using pipeline to apply logistic regression and oneVsRestClassifier\n",
    "LogisticReg_pipeline=Pipeline([('clf',OneVsRestClassifier(LogisticRegression(solver='sag'),n_jobs=-1))])\n",
    "for category in categories:\n",
    "    print(\"Processing {} comments:\".format(category))\n",
    "    LogisticReg_pipeline.fit(X_train,training_data[category][:127656])\n",
    "    \n",
    "    prediction=LogisticReg_pipeline.predict(X_test)\n",
    "    print(\"Accuracy is {}\".format(accuracy_score(Y_test[category],prediction)))\n",
    "    \n",
    "Naive_bayes_pipeline=Pipeline([('clf',OneVsRestClassifier(MultinomialNB(fit_prior=True,class_prior=None)))])\n",
    "for category in categories:\n",
    "    print(\"Processing {} comments:\".format(category))\n",
    "    Naive_bayes_pipeline.fit(X_train,training_data[category][:127656])\n",
    "    \n",
    "    prediction=Naive_bayes_pipeline.predict(X_test)\n",
    "    print(\"Accuracy is {}\".format(accuracy_score(Y_test[category],prediction)))\n",
    "LinearSVC_pipeline=Pipeline([('clf',OneVsRestClassifier(LinearSVC(),n_jobs=1))])\n",
    "for category in categories:\n",
    "    print(\"Processing {} comments:\".format(category))\n",
    "    LinearSVC_pipeline.fit(X_train,training_data[category][:127656])\n",
    "    \n",
    "    predict=LinearSVC_pipeline.predict(X_test)\n",
    "    print(\"Accuracy is {}\".format(accuracy_score(Y_test[category],predict)))\n"
   ]
  },
  {
   "cell_type": "code",
   "execution_count": null,
   "metadata": {},
   "outputs": [],
   "source": []
  }
 ],
 "metadata": {
  "kernelspec": {
   "display_name": "Python 3",
   "language": "python",
   "name": "python3"
  },
  "language_info": {
   "codemirror_mode": {
    "name": "ipython",
    "version": 3
   },
   "file_extension": ".py",
   "mimetype": "text/x-python",
   "name": "python",
   "nbconvert_exporter": "python",
   "pygments_lexer": "ipython3",
   "version": "3.7.3"
  }
 },
 "nbformat": 4,
 "nbformat_minor": 2
}
